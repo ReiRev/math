{
 "cells": [
  {
   "cell_type": "markdown",
   "metadata": {},
   "source": [
    "# 1.1\n",
    "\n",
    "2次方程式$z^2+z+1+i=0$を考える．\n",
    "\n",
    "## (1) \n",
    "\n",
    "複素係数の2次方程式についても，いわゆる”解の公式”が成り立つ．つまり，$a,b\\in \\mathbb{C}$に対して，$z^2+az+b=0$の解は\n",
    "$z=(-a \\pm \\sqrt{a^2-4b})/2$で与えられる．\n",
    "この公式を用いて与式の解を求めよ．ただし，解は$(実部)+i(虚部)$の形式で求めること．"
   ]
  },
  {
   "cell_type": "markdown",
   "metadata": {},
   "source": [
    "### 方針\n",
    "\n",
    "指示された通り，与式を解の公式に当てはめて考える．"
   ]
  },
  {
   "cell_type": "markdown",
   "metadata": {},
   "source": [
    "### 解法\n",
    "\n",
    "解の公式に代入して，$z=(-1\\pm \\sqrt{-3-4i})/2$．\n",
    "\n",
    "ここで，$a,b\\in \\mathbb{R}$とすると，$\\sqrt{-3-4i}=a+bi$とおける．\n",
    "\n",
    "両辺を2乗して，$a^2-b^2 + 2abi = -3 - 4i$となる．\n",
    "\n",
    "複素数の相当より，$a^2-b^2=-3, ab=-2i$．\n",
    "\n",
    "これを満たすものを考えて，$\\sqrt{-3-4i}=\\pm(1-2i)$．\n",
    "\n",
    "従って，$z=-i, -1+i$"
   ]
  },
  {
   "cell_type": "markdown",
   "metadata": {},
   "source": [
    "##"
   ]
  },
  {
   "cell_type": "markdown",
   "metadata": {},
   "source": [
    "## (2)\n",
    "\n",
    "$z=x+iy$とおき，与式の解を$xy$平面状の2曲線の交点として求めよ．"
   ]
  },
  {
   "cell_type": "markdown",
   "metadata": {},
   "source": [
    "### 解法\n",
    "\n",
    "指示通りに代入すると，以下の式が成立する．\n",
    "\n",
    "$x^2+x-y^2+1+(2xy+y+1)i = 0$．\n",
    "\n",
    "複素数の相当より，$x^2+x-y^2+1=0$，$2xy+y+1 = 0$が成立．\n",
    "\n",
    "これを図にすると以下で，(1)で求めた解と矛盾しない"
   ]
  },
  {
   "cell_type": "code",
   "execution_count": 8,
   "metadata": {},
   "outputs": [
    {
     "data": {
      "image/png": "[encoded data removed]",
      "text/plain": [
       "<Figure size 432x288 with 1 Axes>"
      ]
     },
     "metadata": {
      "needs_background": "light"
     },
     "output_type": "display_data"
    }
   ],
   "source": [
    "import numpy as np\n",
    "import matplotlib.pyplot as plt\n",
    "\n",
    "fig = plt.figure()\n",
    "axis = fig.add_subplot(1, 1, 1)\n",
    "\n",
    "x, y = np.mgrid[-5: 5: 4001j, -5: 5: 4001j]\n",
    "\n",
    "axis.set_title('1.1(2)')\n",
    "axis.set_xlabel(r'$x$', fontsize=20, fontname='serif')\n",
    "axis.set_ylabel(r'$y$', fontsize=20, fontname='serif')\n",
    "axis.tick_params(axis='both', length=10, which='major')\n",
    "axis.tick_params(axis='both', length=5,  which='minor')\n",
    "axis.minorticks_on()\n",
    "axis.set_aspect('equal', 'box')\n",
    "axis.set(xlim=(-5, 5), ylim=(-5, 5))\n",
    "\n",
    "axis.contour(x, y, x**2+x-y**2+1, [0], colors='lightcoral')\n",
    "axis.contour(x,y,2*x*y+y+1, [0], colors='deepskyblue')\n",
    "\n",
    "plt.show()"
   ]
  }
 ],
 "metadata": {
  "interpreter": {
   "hash": "b3f91d3689ed9f35fe62b472acb20385518ac1a4462c3f395fef40efd7e4015f"
  },
  "kernelspec": {
   "display_name": "Python 3.8.12 ('matlab')",
   "language": "python",
   "name": "python3"
  },
  "language_info": {
   "codemirror_mode": {
    "name": "ipython",
    "version": 3
   },
   "file_extension": ".py",
   "mimetype": "text/x-python",
   "name": "python",
   "nbconvert_exporter": "python",
   "pygments_lexer": "ipython3",
   "version": "3.8.12"
  },
  "orig_nbformat": 4
 },
 "nbformat": 4,
 "nbformat_minor": 2
}
