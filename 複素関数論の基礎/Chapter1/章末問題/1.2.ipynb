{
 "cells": [
  {
   "cell_type": "markdown",
   "metadata": {},
   "source": [
    "# 1.2\n",
    "\n",
    "2次方程式$z^2+az+b=0$を考える．\n",
    "\n",
    "## (1)\n",
    "\n",
    "$a, b$が共に実数であるとき，方程式の2つの解が共に$Re(z) < 0$を満たすための必要十分条件を求めよ．"
   ]
  },
  {
   "cell_type": "markdown",
   "metadata": {},
   "source": [
    "## 解法\n",
    "\n",
    "解が実数かどうかで場合わけを行う．\n",
    "\n",
    "(ⅰ) 解が実数の時\n",
    "\n",
    "判別式より$a^2-4b>=0$．\n",
    "\n",
    "また，$f(z)=z^2+az+b$が描くグラフを考えれば，以下の条件を満たしていれば良い．\n",
    "\n",
    "軸: $-a/2 < 0$\n",
    "\n",
    "端店: $f(0)=b>0$\n",
    "\n",
    "以上より，$a>0, b>0$\n",
    "\n",
    "(ⅱ) 解が虚数の時\n",
    "\n",
    "判別式より$a^2-4b<0$．\n",
    "\n",
    "また，$Re(z) = -a/2 $なので，$a>0$を満たしていれば良い．\n",
    "\n",
    "なお，この時$b=a^2/4$より，$b>0$が成立する．\n",
    "\n",
    "\n",
    "以上より，まとめると$a<0, b>0$．"
   ]
  },
  {
   "cell_type": "markdown",
   "metadata": {},
   "source": [
    "## (2)\n",
    "\n",
    "$a$が純虚数，$b$が実数であるとき，方程式の2つの解が共に$Im(z)<0$を満たすための必要十分条件を求めよ．"
   ]
  },
  {
   "cell_type": "markdown",
   "metadata": {},
   "source": [
    "### 解法\n",
    "\n",
    "簡単のため，$A \\in \\mathbb{R}$として，$a=Ai$とおく．\n",
    "\n",
    "すると，解は$z= (-Ai \\pm \\sqrt{-A^2-4b})/2 = (-A\\pm \\sqrt(A^2+4b))i/2$となり，純虚数であることがわかる．\n",
    "\n",
    "従って，$-A+\\sqrt{A^2+4b}<0$を満たせばよく，これはすなわち，$A>0, b<0$である．\n",
    "\n",
    "ゆえに，$ai<0, b<0$となる．"
   ]
  }
 ],
 "metadata": {
  "interpreter": {
   "hash": "b3f91d3689ed9f35fe62b472acb20385518ac1a4462c3f395fef40efd7e4015f"
  },
  "kernelspec": {
   "display_name": "Python 3.8.12 ('matlab')",
   "language": "python",
   "name": "python3"
  },
  "language_info": {
   "name": "python",
   "version": "3.8.12"
  },
  "orig_nbformat": 4
 },
 "nbformat": 4,
 "nbformat_minor": 2
}
